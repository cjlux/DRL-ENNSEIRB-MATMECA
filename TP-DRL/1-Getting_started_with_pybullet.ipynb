{
 "cells": [
  {
   "cell_type": "markdown",
   "metadata": {},
   "source": [
    "<span style=\"font-size:10pt\">DRL @ ENSEIRB_2023-2024 / v1.2 september 2023 / Jean-Luc CHARLES (Jean-Luc.charles@mailo.com) / CC BY-SA 4.0 /</span>"
   ]
  },
  {
   "cell_type": "markdown",
   "metadata": {},
   "source": [
    "<div style=\"color:brown;font-family:arial;font-size:20pt;font-weight:bold;text-align:center\"> \n",
    "<img align=\"left\" src=\"./images/movie_camera.png\" width=\"40\" height=\"40\"> \n",
    "    Getting started with the robotic simulator _PyBullet_</div><br>\n",
    "<hr>\n",
    "With this notebook, you will simulate a _2 dof robotic arm_ using _PyBullet_ and the _URDF_ description file of the robot. \n",
    "\n",
    "Expected duration : 30 minutes\n",
    "\n",
    "Recommended document: Pybullet online documentation: [PyBullet Quickstart Guide](https://docs.google.com/document/d/10sXEhzFRSnvFcl3XxNGhnD4N2SedqwdAvK3dsihxVUA/edit#heading=h.2ye70wns7io3)"
   ]
  },
  {
   "cell_type": "markdown",
   "metadata": {},
   "source": [
    "# Outline <a name=\"top\"></a>\n",
    "- [ 1 - Start the Pybullet server](#1)\n",
    "    - [ 1.1 - Launch PyBullet server with the GUI](#1.1)\n",
    "    - [ 1.2 - Start a new simulation and set some useful parameters](#1.2)\n",
    "- [ 2 - Load URDF files](#2)\n",
    "    - [ 2.1 - Load the ground plane](#2.1)\n",
    "    - [ 2.2 - Load the robot URDF file](#2.2)\n",
    "    - [ 2.3 - Useful shorcuts](#2.3)\n",
    "    - [ 2.4 - Display robot joint properties](#2.4)\n",
    "- [ 4 - Move the robot](#4)\n",
    "    - [ 4.1 Control the position of the robot](#4.1)\n",
    "    - [ 4.2 Robot free run simulation](#4.2)"
   ]
  },
  {
   "cell_type": "markdown",
   "metadata": {},
   "source": []
  },
  {
   "cell_type": "markdown",
   "metadata": {},
   "source": [
    "# Import the required modules"
   ]
  },
  {
   "cell_type": "code",
   "execution_count": 1,
   "metadata": {},
   "outputs": [
    {
     "ename": "ModuleNotFoundError",
     "evalue": "No module named 'pybullet'",
     "output_type": "error",
     "traceback": [
      "\u001b[0;31m---------------------------------------------------------------------------\u001b[0m",
      "\u001b[0;31mModuleNotFoundError\u001b[0m                       Traceback (most recent call last)",
      "Input \u001b[0;32mIn [1]\u001b[0m, in \u001b[0;36m<cell line: 1>\u001b[0;34m()\u001b[0m\n\u001b[0;32m----> 1\u001b[0m \u001b[38;5;28;01mimport\u001b[39;00m \u001b[38;5;21;01mpybullet\u001b[39;00m \u001b[38;5;28;01mas\u001b[39;00m \u001b[38;5;21;01mp\u001b[39;00m\n\u001b[1;32m      2\u001b[0m \u001b[38;5;28;01mimport\u001b[39;00m \u001b[38;5;21;01mpybullet_data\u001b[39;00m\n\u001b[1;32m      3\u001b[0m \u001b[38;5;28;01mimport\u001b[39;00m \u001b[38;5;21;01mnumpy\u001b[39;00m \u001b[38;5;28;01mas\u001b[39;00m \u001b[38;5;21;01mnp\u001b[39;00m\n",
      "\u001b[0;31mModuleNotFoundError\u001b[0m: No module named 'pybullet'"
     ]
    }
   ],
   "source": [
    "import pybullet as p\n",
    "import pybullet_data\n",
    "import numpy as np\n",
    "import os, time\n",
    "from math import pi\n",
    "from utils.tools import is_close_to, move_to, display_joint_properties, welcome\n",
    "\n",
    "np.set_printoptions(precision=4)\n",
    "\n",
    "pc = None    # pc : the connection to PyBullet"
   ]
  },
  {
   "cell_type": "markdown",
   "metadata": {},
   "source": [
    "# 1. Start the Pybullet server<a name=\"1\"></a>\n",
    "## 1.1 - Launch the PyBullet server with the GUI:<a name=\"1.1\"></a>"
   ]
  },
  {
   "cell_type": "markdown",
   "metadata": {},
   "source": [
    "The following cell opens an empty window. It will show later the objects computed by PyBullet..."
   ]
  },
  {
   "cell_type": "code",
   "execution_count": 12,
   "metadata": {},
   "outputs": [],
   "source": [
    "if pc is None: pc = p.connect(p.GUI)"
   ]
  },
  {
   "cell_type": "code",
   "execution_count": 2,
   "metadata": {},
   "outputs": [],
   "source": [
    "if pc is None: pc = p.connect(p.GUI)\n",
    "p.configureDebugVisualizer(p.COV_ENABLE_GUI, 0)\n",
    "p.setAdditionalSearchPath(pybullet_data.getDataPath())  # used by loadURDF"
   ]
  },
  {
   "cell_type": "markdown",
   "metadata": {},
   "source": [
    "<a name=\"1.2\"></a>\n",
    "## 1.2 - Start a new simulation and set some useful parameters:"
   ]
  },
  {
   "cell_type": "code",
   "execution_count": 3,
   "metadata": {},
   "outputs": [],
   "source": [
    "p.resetSimulation()\n",
    "# set some important parameters:\n",
    "p.setGravity(0,0,-9.81)           # m/s^2\n",
    "p.setTimeStep(0.01)               # the simulation time step in secondes"
   ]
  },
  {
   "cell_type": "markdown",
   "metadata": {},
   "source": [
    "[top](#top)"
   ]
  },
  {
   "cell_type": "markdown",
   "metadata": {},
   "source": [
    "# 2 - Load URDF files<a name=\"2\"></a>\n",
    "## 2.1 Load the ground plane <a name=\"2.1\"></a>"
   ]
  },
  {
   "cell_type": "code",
   "execution_count": 4,
   "metadata": {},
   "outputs": [],
   "source": [
    "planeId = p.loadURDF(\"plane.urdf\")"
   ]
  },
  {
   "cell_type": "markdown",
   "metadata": {
    "tags": []
   },
   "source": [
    "## 2.2 Load the robot URDF file <a name=\"2.2\"></a>"
   ]
  },
  {
   "cell_type": "code",
   "execution_count": 5,
   "metadata": {},
   "outputs": [],
   "source": [
    "startPos = [0, 0, 0.01]\n",
    "startOrientation = p.getQuaternionFromEuler([0, 0, 0])\n",
    "botId  = p.loadURDF(\"./urdf/RoboticArm_2DOF_2.urdf\", startPos, startOrientation)"
   ]
  },
  {
   "cell_type": "markdown",
   "metadata": {
    "tags": []
   },
   "source": [
    "## 2.3 - Useful shorcuts <a name=\"2.3\"></a>"
   ]
  },
  {
   "cell_type": "code",
   "execution_count": 6,
   "metadata": {
    "tags": []
   },
   "outputs": [
    {
     "name": "stdout",
     "output_type": "stream",
     "text": [
      "\n",
      "################################################################################\n",
      "# Welcome to this practical session with Pybullet & URDF.\n",
      "# Pybullet windows shortcuts:\n",
      "#    G: close/open the tabs\n",
      "#    W: switch between solid/wireframe rendering\n",
      "#    J: show/hide links & joints frames as RGB lines (with wireframe rendering actvated)\n",
      "#    K: show/hide joint axes as a black line         (with wireframe rendering actvated)\n",
      "#    A: show/hide collision boxes                    (with wireframe rendering actvated)\n",
      "#    CTRL+left_clic  : rotate the robot\n",
      "#    CRTL+midlle_clic: translate the robot\n",
      "#    Mouse_wheel: zoom/unzoom\n",
      "################################################################################\n",
      "\n"
     ]
    }
   ],
   "source": [
    "welcome()"
   ]
  },
  {
   "cell_type": "markdown",
   "metadata": {},
   "source": [
    "Try these shortcuts in the Bullet window..."
   ]
  },
  {
   "cell_type": "markdown",
   "metadata": {},
   "source": [
    "## 2.4 Display robot joint properties <a name=\"2.4\"></a>"
   ]
  },
  {
   "cell_type": "markdown",
   "metadata": {},
   "source": [
    "Displaying the joints properties is useful to see their indexex and their main properties:"
   ]
  },
  {
   "cell_type": "code",
   "execution_count": 7,
   "metadata": {},
   "outputs": [
    {
     "name": "stdout",
     "output_type": "stream",
     "text": [
      "Infos on joint index <0>\n",
      "\tjointName       :b'fixed_to_world'\n",
      "\tqIndex          :-1\n",
      "\tuIndex          :-1\n",
      "\tjointDamping    :0.0\n",
      "\tjointFriction   :0.0\n",
      "\tjointLowerLimit :0.0\n",
      "\tjointUpperLimit :-1.0\n",
      "\tjointMaxForce   :0.0\n",
      "\tjointMaxVelocity:0.0\n",
      "\tlinkName        :b'base_link'\n",
      "\tjointAxis       :(0.0, 0.0, 0.0)\n",
      "\n",
      "Infos on joint index <1>\n",
      "\tjointName       :b'Revolute1'\n",
      "\tqIndex          :7\n",
      "\tuIndex          :6\n",
      "\tjointDamping    :0.0\n",
      "\tjointFriction   :0.0\n",
      "\tjointLowerLimit :0.0\n",
      "\tjointUpperLimit :3.1416\n",
      "\tjointMaxForce   :0.0\n",
      "\tjointMaxVelocity:0.0\n",
      "\tlinkName        :b'Arm_1'\n",
      "\tjointAxis       :(0.0, 0.0, 1.0)\n",
      "\n",
      "Infos on joint index <2>\n",
      "\tjointName       :b'Revolute2'\n",
      "\tqIndex          :8\n",
      "\tuIndex          :7\n",
      "\tjointDamping    :0.0\n",
      "\tjointFriction   :0.0\n",
      "\tjointLowerLimit :-3.1416\n",
      "\tjointUpperLimit :3.1416\n",
      "\tjointMaxForce   :0.0\n",
      "\tjointMaxVelocity:0.0\n",
      "\tlinkName        :b'Arm_2'\n",
      "\tjointAxis       :(0.0, 0.0, 1.0)\n",
      "\n",
      "Infos on joint index <3>\n",
      "\tjointName       :b'fixed'\n",
      "\tqIndex          :-1\n",
      "\tuIndex          :-1\n",
      "\tjointDamping    :0.0\n",
      "\tjointFriction   :0.0\n",
      "\tjointLowerLimit :0.0\n",
      "\tjointUpperLimit :-1.0\n",
      "\tjointMaxForce   :0.0\n",
      "\tjointMaxVelocity:0.0\n",
      "\tlinkName        :b'effector'\n",
      "\tjointAxis       :(0.0, 0.0, 0.0)\n",
      "\n"
     ]
    }
   ],
   "source": [
    "display_joint_properties(botId)"
   ]
  },
  {
   "cell_type": "markdown",
   "metadata": {},
   "source": [
    "[top](#top)"
   ]
  },
  {
   "cell_type": "code",
   "execution_count": 8,
   "metadata": {},
   "outputs": [
    {
     "data": {
      "text/plain": [
       "(b'world', b'RobotArm_2DOF')"
      ]
     },
     "execution_count": 8,
     "metadata": {},
     "output_type": "execute_result"
    }
   ],
   "source": [
    "p.getBodyInfo(botId)"
   ]
  },
  {
   "cell_type": "markdown",
   "metadata": {},
   "source": [
    "# 4 - Move the robot<a name=\"4\"></a>\n",
    "## 4.1 - Control the robot position:<a name=\"4.1\"></a>"
   ]
  },
  {
   "cell_type": "markdown",
   "metadata": {},
   "source": [
    "- The function `p.setJointMotorControlArray` lets you control the robot joints :<br>\n",
    "by position: mode __POSITION_CONTROL__<br>\n",
    "by velocity: mode __VELOCITY_CONTROL__<br>\n",
    "by torque: mode __TORQUE_CONTROL__.\n",
    "\n",
    "- The function `p.p.stepSimulation` is used to compute a simulation step.\n",
    "\n",
    "- The fucntion `p.getJointStates` returns the state (position, velocities...) of the joints given in araguments.\n",
    "\n",
    "Look at the function `move_to` in the file `utils/tools.py` to see how these fucntions are used..."
   ]
  },
  {
   "cell_type": "code",
   "execution_count": 9,
   "metadata": {},
   "outputs": [
    {
     "name": "stdout",
     "output_type": "stream",
     "text": [
      "\n",
      "Target robot position: q1=0° and q2=0° \n",
      "Press ENTER for next position\n",
      "\n",
      "Target robot position: q1=90° and q2=0° \n",
      "Press ENTER for next position\n",
      "\n",
      "Target robot position: q1=90° and q2=30° \n",
      "Press ENTER for next position\n",
      "\n",
      "Target robot position: q1=120° and q2=30° \n",
      "Press ENTER for next position\n",
      "\n",
      "Target robot position: q1=90° and q2=90° \n",
      "Press ENTER for next position\n",
      "\n",
      "Target robot position: q1=90° and q2=-90° \n",
      "Press ENTER for next position\n"
     ]
    }
   ],
   "source": [
    "move_to(botId, (1,2), (0, 0))\n",
    "move_to(botId, (1,2), (pi/2, 0))\n",
    "move_to(botId, (1,2), (pi/2, pi/6))\n",
    "move_to(botId, (1,2), (pi/2+pi/6, pi/6))\n",
    "move_to(botId, (1,2), (pi/2, pi/2))\n",
    "move_to(botId, (1,2), (pi/2, -pi/2))"
   ]
  },
  {
   "cell_type": "markdown",
   "metadata": {},
   "source": [
    "## 4.2 - Robot free run simulation:<a name=\"4.1\"></a>"
   ]
  },
  {
   "cell_type": "code",
   "execution_count": 10,
   "metadata": {},
   "outputs": [
    {
     "name": "stdout",
     "output_type": "stream",
     "text": [
      "Going to the start position...\n",
      "\n",
      "Target robot position: q1=60° and q2=-30° \n",
      "Press ENTER to start, [Q] in the pybullet window to end...\n",
      "Restart kernel if you want to re-run the notbook from the beginning...\n"
     ]
    }
   ],
   "source": [
    "print(\"Going to the start position...\")\n",
    "move_to(botId, (1,2), (pi/2-pi/6, -pi/6), wait=\"Press ENTER to start, [Q] in the pybullet window to end...\")\n",
    " \n",
    "# disable the motor control motion for the 2 revolute joints:\n",
    "p.setJointMotorControl2(botId, 1, controlMode=p.VELOCITY_CONTROL, force=0)\n",
    "p.setJointMotorControl2(botId, 2, controlMode=p.VELOCITY_CONTROL, force=0)\n",
    "\n",
    "# now let the gravity do thejob:\n",
    "step = 0\n",
    "while True:\n",
    "    p.stepSimulation()\n",
    "    keys = p.getKeyboardEvents(physicsClientId=pc)\n",
    "    if ord('q') in keys and keys[ord('q')] & p.KEY_WAS_TRIGGERED:\n",
    "        break\n",
    "    time.sleep(0.02)\n",
    "    \n",
    "    # force the simulation to end, even if you haven't press \n",
    "    # the [Q] key in the simulation window...\n",
    "    step += 1\n",
    "    if step >= 300: break\n",
    "        \n",
    "p.disconnect(physicsClientId=pc)\n",
    "pc = None        \n",
    "\n",
    "print(\"Restart kernel if you want to re-run the notbook from the beginning...\")"
   ]
  },
  {
   "cell_type": "markdown",
   "metadata": {},
   "source": [
    "[top](#top)"
   ]
  }
 ],
 "metadata": {
  "kernelspec": {
   "display_name": "Python 3 (ipykernel)",
   "language": "python",
   "name": "python3"
  },
  "language_info": {
   "codemirror_mode": {
    "name": "ipython",
    "version": 3
   },
   "file_extension": ".py",
   "mimetype": "text/x-python",
   "name": "python",
   "nbconvert_exporter": "python",
   "pygments_lexer": "ipython3",
   "version": "3.10.12"
  },
  "toc-showmarkdowntxt": false,
  "toc-showtags": false
 },
 "nbformat": 4,
 "nbformat_minor": 4
}
